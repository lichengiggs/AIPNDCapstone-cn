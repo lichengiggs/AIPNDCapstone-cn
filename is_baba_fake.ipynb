{
  "nbformat": 4,
  "nbformat_minor": 0,
  "metadata": {
    "colab": {
      "name": "is_baba_fake.ipynb",
      "provenance": [],
      "include_colab_link": true
    },
    "kernelspec": {
      "name": "python3",
      "display_name": "Python 3"
    }
  },
  "cells": [
    {
      "cell_type": "markdown",
      "metadata": {
        "id": "view-in-github",
        "colab_type": "text"
      },
      "source": [
        "<a href=\"https://colab.research.google.com/github/lichengiggs/AIPNDCapstone-cn/blob/master/is_baba_fake.ipynb\" target=\"_parent\"><img src=\"https://colab.research.google.com/assets/colab-badge.svg\" alt=\"Open In Colab\"/></a>"
      ]
    },
    {
      "cell_type": "code",
      "metadata": {
        "id": "S1p626UyHTpM",
        "colab_type": "code",
        "colab": {}
      },
      "source": [
        "import numpy as np"
      ],
      "execution_count": 0,
      "outputs": []
    },
    {
      "cell_type": "code",
      "metadata": {
        "id": "wabms28DHhM1",
        "colab_type": "code",
        "colab": {}
      },
      "source": [
        "#双11的第几个年头\n",
        "year = [2009,2010,2011,2012,2013,2014,2015,2016,2017,2018,2019]\n",
        "x = [1,2,3,4,5,6,7,8,9,10,11]\n",
        "\n",
        "#每年的销售额（亿元）\n",
        "y = [0.5,9.36,52,191,350,571,912,1207,1682.69,2135,2684]\n"
      ],
      "execution_count": 0,
      "outputs": []
    },
    {
      "cell_type": "code",
      "metadata": {
        "id": "2gh8RaEBOOVk",
        "colab_type": "code",
        "colab": {}
      },
      "source": [
        "#给前N年的数据，推出后面几年的销售量\n",
        "def predict_sales(x, y, num):\n",
        "    x_years = x[0:num]\n",
        "    y_years = y[0:num]\n",
        "    \n",
        "    #第三个参数2，表明用的是二元多项式\n",
        "    coef = np.polyfit(x_years, y_years, 2)\n",
        "    model = np.poly1d(coef)\n",
        "\n",
        "    #返回预测值和实际值，作为比较\n",
        "    return model(x[num:]), y[num:], coef"
      ],
      "execution_count": 0,
      "outputs": []
    },
    {
      "cell_type": "code",
      "metadata": {
        "id": "yBdUCHoYO0Y-",
        "colab_type": "code",
        "colab": {
          "base_uri": "https://localhost:8080/",
          "height": 578
        },
        "outputId": "5fe7154a-0d4a-4c77-e496-f17ca26cd197"
      },
      "source": [
        "for num in range(3,11):\n",
        "    print('##use 2009-{} to predict year:{}-{}##'.format(year[num-1], year[num], year[-1]))\n",
        "    predict, fact, coef = predict_sales(x, y, num)\n",
        "    print(predict)\n",
        "    print('\\n')"
      ],
      "execution_count": 44,
      "outputs": [
        {
          "output_type": "stream",
          "text": [
            "##use 2009-2011 to predict year:2012-2019##\n",
            "[ 128.42  238.62  382.6   560.36  771.9  1017.22 1296.32 1609.2 ]\n",
            "\n",
            "\n",
            "##use 2009-2012 to predict year:2013-2019##\n",
            "[ 379.425  636.049  957.743 1344.507 1796.341 2313.245 2895.219]\n",
            "\n",
            "\n",
            "##use 2009-2013 to predict year:2014-2019##\n",
            "[ 583.084       869.468      1212.51485714 1612.22457143 2068.59714286\n",
            " 2581.63257143]\n",
            "\n",
            "\n",
            "##use 2009-2014 to predict year:2015-2019##\n",
            "[ 851.342      1184.03114286 1571.22528571 2012.92442857 2509.12857143]\n",
            "\n",
            "\n",
            "##use 2009-2015 to predict year:2016-2019##\n",
            "[1262.02       1688.20857143 2176.12333333 2725.76428571]\n",
            "\n",
            "\n",
            "##use 2009-2016 to predict year:2017-2019##\n",
            "[1626.31107143 2086.71583333 2604.26178571]\n",
            "\n",
            "\n",
            "##use 2009-2017 to predict year:2018-2019##\n",
            "[2143.0947619  2683.19228571]\n",
            "\n",
            "\n",
            "##use 2009-2018 to predict year:2019-2019##\n",
            "[2675.907]\n",
            "\n",
            "\n"
          ],
          "name": "stdout"
        }
      ]
    },
    {
      "cell_type": "code",
      "metadata": {
        "id": "mttLcmPYvT6_",
        "colab_type": "code",
        "colab": {}
      },
      "source": [
        ""
      ],
      "execution_count": 0,
      "outputs": []
    },
    {
      "cell_type": "code",
      "metadata": {
        "id": "83aUQyurxeu3",
        "colab_type": "code",
        "colab": {
          "base_uri": "https://localhost:8080/",
          "height": 519
        },
        "outputId": "8745eb4a-11cf-46eb-c3e2-9300d312eac5"
      },
      "source": [
        "#用特征工程的方法做一个x^2的参数，然后用线性拟合来完成\n",
        "#summary有详细的统计学参数，供想详细了解的同学使用，反正我不懂\n",
        "import numpy as np\n",
        "import pandas as pd\n",
        "import statsmodels.api as sm\n",
        "\n",
        "num = 10\n",
        "tmp = {'price':pd.Series(y[:num]), 'x':pd.Series(x[:num]), 'x**2':pd.Series(np.power(x[:num],2))}\n",
        "df = pd.DataFrame(tmp)\n",
        "df['intercept'] = 1\n",
        "Y = df['price']\n",
        "X = df[['intercept', 'x', 'x**2']]\n",
        "lm = sm.OLS(Y, X)\n",
        "result = lm.fit()\n",
        "result.summary()"
      ],
      "execution_count": 120,
      "outputs": [
        {
          "output_type": "stream",
          "text": [
            "/Users/luffy/opt/anaconda3/lib/python3.7/site-packages/scipy/stats/stats.py:1450: UserWarning: kurtosistest only valid for n>=20 ... continuing anyway, n=10\n",
            "  \"anyway, n=%i\" % int(n))\n"
          ],
          "name": "stderr"
        },
        {
          "output_type": "execute_result",
          "data": {
            "text/plain": [
              "<class 'statsmodels.iolib.summary.Summary'>\n",
              "\"\"\"\n",
              "                            OLS Regression Results                            \n",
              "==============================================================================\n",
              "Dep. Variable:                  price   R-squared:                       0.999\n",
              "Model:                            OLS   Adj. R-squared:                  0.999\n",
              "Method:                 Least Squares   F-statistic:                     5614.\n",
              "Date:                Tue, 12 Nov 2019   Prob (F-statistic):           6.04e-12\n",
              "Time:                        22:30:44   Log-Likelihood:                -43.005\n",
              "No. Observations:                  10   AIC:                             92.01\n",
              "Df Residuals:                       7   BIC:                             92.92\n",
              "Df Model:                           2                                         \n",
              "Covariance Type:            nonrobust                                         \n",
              "==============================================================================\n",
              "                 coef    std err          t      P>|t|      [0.025      0.975]\n",
              "------------------------------------------------------------------------------\n",
              "intercept     70.3863     25.083      2.806      0.026      11.075     129.698\n",
              "x            -94.1803     10.476     -8.990      0.000    -118.951     -69.409\n",
              "x**2          30.0951      0.928     32.427      0.000      27.900      32.290\n",
              "==============================================================================\n",
              "Omnibus:                        0.473   Durbin-Watson:                   3.537\n",
              "Prob(Omnibus):                  0.789   Jarque-Bera (JB):                0.289\n",
              "Skew:                          -0.345   Prob(JB):                        0.866\n",
              "Kurtosis:                       2.534   Cond. No.                         202.\n",
              "==============================================================================\n",
              "\n",
              "Warnings:\n",
              "[1] Standard Errors assume that the covariance matrix of the errors is correctly specified.\n",
              "\"\"\""
            ],
            "text/html": [
              "<table class=\"simpletable\">\n",
              "<caption>OLS Regression Results</caption>\n",
              "<tr>\n",
              "  <th>Dep. Variable:</th>          <td>price</td>      <th>  R-squared:         </th> <td>   0.999</td>\n",
              "</tr>\n",
              "<tr>\n",
              "  <th>Model:</th>                   <td>OLS</td>       <th>  Adj. R-squared:    </th> <td>   0.999</td>\n",
              "</tr>\n",
              "<tr>\n",
              "  <th>Method:</th>             <td>Least Squares</td>  <th>  F-statistic:       </th> <td>   5614.</td>\n",
              "</tr>\n",
              "<tr>\n",
              "  <th>Date:</th>             <td>Tue, 12 Nov 2019</td> <th>  Prob (F-statistic):</th> <td>6.04e-12</td>\n",
              "</tr>\n",
              "<tr>\n",
              "  <th>Time:</th>                 <td>22:30:44</td>     <th>  Log-Likelihood:    </th> <td> -43.005</td>\n",
              "</tr>\n",
              "<tr>\n",
              "  <th>No. Observations:</th>      <td>    10</td>      <th>  AIC:               </th> <td>   92.01</td>\n",
              "</tr>\n",
              "<tr>\n",
              "  <th>Df Residuals:</th>          <td>     7</td>      <th>  BIC:               </th> <td>   92.92</td>\n",
              "</tr>\n",
              "<tr>\n",
              "  <th>Df Model:</th>              <td>     2</td>      <th>                     </th>     <td> </td>   \n",
              "</tr>\n",
              "<tr>\n",
              "  <th>Covariance Type:</th>      <td>nonrobust</td>    <th>                     </th>     <td> </td>   \n",
              "</tr>\n",
              "</table>\n",
              "<table class=\"simpletable\">\n",
              "<tr>\n",
              "      <td></td>         <th>coef</th>     <th>std err</th>      <th>t</th>      <th>P>|t|</th>  <th>[0.025</th>    <th>0.975]</th>  \n",
              "</tr>\n",
              "<tr>\n",
              "  <th>intercept</th> <td>   70.3863</td> <td>   25.083</td> <td>    2.806</td> <td> 0.026</td> <td>   11.075</td> <td>  129.698</td>\n",
              "</tr>\n",
              "<tr>\n",
              "  <th>x</th>         <td>  -94.1803</td> <td>   10.476</td> <td>   -8.990</td> <td> 0.000</td> <td> -118.951</td> <td>  -69.409</td>\n",
              "</tr>\n",
              "<tr>\n",
              "  <th>x**2</th>      <td>   30.0951</td> <td>    0.928</td> <td>   32.427</td> <td> 0.000</td> <td>   27.900</td> <td>   32.290</td>\n",
              "</tr>\n",
              "</table>\n",
              "<table class=\"simpletable\">\n",
              "<tr>\n",
              "  <th>Omnibus:</th>       <td> 0.473</td> <th>  Durbin-Watson:     </th> <td>   3.537</td>\n",
              "</tr>\n",
              "<tr>\n",
              "  <th>Prob(Omnibus):</th> <td> 0.789</td> <th>  Jarque-Bera (JB):  </th> <td>   0.289</td>\n",
              "</tr>\n",
              "<tr>\n",
              "  <th>Skew:</th>          <td>-0.345</td> <th>  Prob(JB):          </th> <td>   0.866</td>\n",
              "</tr>\n",
              "<tr>\n",
              "  <th>Kurtosis:</th>      <td> 2.534</td> <th>  Cond. No.          </th> <td>    202.</td>\n",
              "</tr>\n",
              "</table><br/><br/>Warnings:<br/>[1] Standard Errors assume that the covariance matrix of the errors is correctly specified."
            ]
          },
          "metadata": {
            "tags": []
          },
          "execution_count": 120
        }
      ]
    },
    {
      "cell_type": "code",
      "metadata": {
        "id": "N3GrWwx39xU6",
        "colab_type": "code",
        "colab": {
          "base_uri": "https://localhost:8080/",
          "height": 51
        },
        "outputId": "9ad169c5-8f43-4913-cc1c-e94e77a3eaf8"
      },
      "source": [
        "#用sklearn做了另外一个，可以看到预测值\n",
        "from sklearn.linear_model import LinearRegression\n",
        "\n",
        "num = 10\n",
        "tmp = {'price':pd.Series(y[:num]), 'x':pd.Series(x[:num]), 'x**2':pd.Series(np.power(x[:num],2))}\n",
        "df = pd.DataFrame(tmp)\n",
        "Y = df['price']\n",
        "X = df[['x', 'x**2']]\n",
        "\n",
        "lm = LinearRegression().fit(X,Y)\n",
        "print(lm.coef_, lm.intercept_)\n",
        "\n",
        "pred_X = pd.DataFrame({'x':pd.Series(x[num:]), 'x**2':pd.Series(np.power(x[num:],2))})\n",
        "lm.predict(pred_X), y[num:]"
      ],
      "execution_count": 119,
      "outputs": [
        {
          "output_type": "stream",
          "text": [
            "[-94.18031818  30.09507576] 70.38633333333257\n"
          ],
          "name": "stdout"
        },
        {
          "output_type": "execute_result",
          "data": {
            "text/plain": [
              "(array([2675.907]), [2684])"
            ]
          },
          "metadata": {
            "tags": []
          },
          "execution_count": 119
        }
      ]
    },
    {
      "cell_type": "code",
      "metadata": {
        "id": "Sjj3tEFo3Gmr",
        "colab_type": "code",
        "colab": {}
      },
      "source": [
        ""
      ],
      "execution_count": 0,
      "outputs": []
    }
  ]
}